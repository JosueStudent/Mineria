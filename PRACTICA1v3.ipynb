{
 "cells": [
  {
   "cell_type": "code",
   "execution_count": 3,
   "metadata": {},
   "outputs": [],
   "source": [
    "import pandas as pd \n",
    "import numpy as np\n",
    "import json\n",
    "data_frame = pd.read_csv(\"F:/mineria/unclean_data1.csv\")\n",
    "data_frame #Impre las primeras 5 columNAS\n",
    "dataMod=data_frame"
   ]
  },
  {
   "cell_type": "markdown",
   "metadata": {},
   "source": [
    "# IMPORTAR LIBRERIAS Y BASE DE DATOS Y VISUALIZAR LOS DATOS"
   ]
  },
  {
   "cell_type": "code",
   "execution_count": 4,
   "metadata": {},
   "outputs": [
    {
     "data": {
      "text/plain": [
       "movie_title                  0\n",
       "num_critic_for_reviews       0\n",
       "duration                     3\n",
       "DIRECTOR_facebook_likes      2\n",
       "actor_3_facebook_likes       0\n",
       "ACTOR_1_facebook_likes       0\n",
       "gross                        0\n",
       "num_voted_users              1\n",
       "Cast_Total_facebook_likes    2\n",
       "facenumber_in_poster         5\n",
       "num_user_for_reviews         0\n",
       "budget                       0\n",
       "title_year                   0\n",
       "ACTOR_2_facebook_likes       1\n",
       "imdb_score                   0\n",
       "title_year.1                 7\n",
       "dtype: int64"
      ]
     },
     "execution_count": 4,
     "metadata": {},
     "output_type": "execute_result"
    }
   ],
   "source": [
    "data_frame.shape\n",
    "data_frame.dtypes\n",
    "data_frame.isnull().any()\n",
    "data_frame.isnull().sum()\n"
   ]
  },
  {
   "cell_type": "markdown",
   "metadata": {},
   "source": [
    "# Descripcion\n",
    "## Numero de Filas y Columnas = 14, 16\n",
    "## Tipo de dato de cada columna \n",
    "    - movie_title                   object\n",
    "    - num_critic_for_reviews         int64\n",
    "    - duration                     float64\n",
    "    - DIRECTOR_facebook_likes       object\n",
    "    - actor_3_facebook_likes         int64\n",
    "    - ACTOR_1_facebook_likes         int64\n",
    "    - gross                          int64\n",
    "    - num_voted_users              float64\n",
    "    - Cast_Total_facebook_likes    float64\n",
    "    - facenumber_in_poster         float64\n",
    "    - num_user_for_reviews           int64\n",
    "    - budget                         int64\n",
    "    - title_year                     int64\n",
    "    - ACTOR_2_facebook_likes       float64\n",
    "    - imdb_score                   float64\n",
    "    - title_year.1                 float64\n",
    "    - dtype: object\n",
    "    \n",
    "## Numero de nulos en cada columna\n",
    "    - movie_title                  0\n",
    "    - num_critic_for_reviews       0\n",
    "    - duration                     3\n",
    "    - DIRECTOR_facebook_likes      2\n",
    "    - actor_3_facebook_likes       0\n",
    "    - ACTOR_1_facebook_likes       0\n",
    "    - gross                        0\n",
    "    - num_voted_users              1\n",
    "    - Cast_Total_facebook_likes    2\n",
    "    - facenumber_in_poster         5\n",
    "    - num_user_for_reviews         0\n",
    "    - budget                       0\n",
    "    - title_year                   0\n",
    "    - ACTOR_2_facebook_likes       1\n",
    "    - imdb_score                   0\n",
    "    - title_year.1                 7\n",
    "    \n",
    "## P.I.1  Importancia del analisis previo de los datos antes de iniciar las modificaciones\n",
    "\n",
    "    -Esto se realiza con la finalidad de encontrar posibles fallos en la informacion que pueda entorpecer nuestra base a la hora de correr nuestro codigo, por lo que el analisis previo nos permitira limpiar, homogenizar nuestros datos\n"
   ]
  },
  {
   "cell_type": "code",
   "execution_count": 12,
   "metadata": {
    "scrolled": true
   },
   "outputs": [
    {
     "data": {
      "text/plain": [
       "0                                         Avatar\n",
       "1       Pirates of the Caribbean: At World's End\n",
       "2                                        Spectre\n",
       "3                          The Dark Knight Rises\n",
       "4                                    John Carter\n",
       "5                                   Spider-Man 3\n",
       "6                                        Tangled\n",
       "7                        Avengers: Age of Ultron\n",
       "8                        Avengers: Age of Ultron\n",
       "9         Harry Potter and the Half-Blood Prince\n",
       "10            Batman v Superman: Dawn of Justice\n",
       "11                              Superman Returns\n",
       "12                             Quantum of Solace\n",
       "13    Pirates of the Caribbean: Dead Man's Chest\n",
       "Name: Titulo, dtype: object"
      ]
     },
     "execution_count": 12,
     "metadata": {},
     "output_type": "execute_result"
    }
   ],
   "source": [
    "\n",
    "dataMod2=dataMod.rename(columns = {'gross':'Ingresos','movie_title':'Titulo','num_critic_for_reviews':'NumeroCriticas','duration':'Duracion','title_year':'Año'})\n",
    "dataMod2 = dataMod2.fillna(0)\n",
    "dataMod2.dtypes\n",
    "Data=pd.DataFrame(dataMod2)\n",
    "Data['Titulo']=Data['Titulo'].replace('\\?ÿ','',regex=True).astype(str)\n",
    "\n",
    "Data['Titulo']"
   ]
  },
  {
   "cell_type": "markdown",
   "metadata": {},
   "source": [
    "### Se limpia los nombres de los titulos"
   ]
  },
  {
   "cell_type": "code",
   "execution_count": 14,
   "metadata": {
    "scrolled": true
   },
   "outputs": [],
   "source": [
    "Data2=Data.drop(7,axis = 0 ) #Borro fila con registros repetida\n"
   ]
  },
  {
   "cell_type": "markdown",
   "metadata": {},
   "source": [
    "### Borro fila con registros repetida"
   ]
  },
  {
   "cell_type": "markdown",
   "metadata": {},
   "source": [
    "## Se clasificara por los ingresos de cada año"
   ]
  }
 ],
 "metadata": {
  "kernelspec": {
   "display_name": "Python 3",
   "language": "python",
   "name": "python3"
  },
  "language_info": {
   "codemirror_mode": {
    "name": "ipython",
    "version": 3
   },
   "file_extension": ".py",
   "mimetype": "text/x-python",
   "name": "python",
   "nbconvert_exporter": "python",
   "pygments_lexer": "ipython3",
   "version": "3.7.4"
  }
 },
 "nbformat": 4,
 "nbformat_minor": 2
}

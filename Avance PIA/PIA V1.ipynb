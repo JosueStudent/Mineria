{
 "cells": [
  {
   "cell_type": "markdown",
   "metadata": {},
   "source": [
    "# IMPORTAR LIBRERIAS Y BASE DE DATOS Y VISUALIZAR LOS DATOS"
   ]
  },
  {
   "cell_type": "code",
   "execution_count": 17,
   "metadata": {},
   "outputs": [],
   "source": [
    "import pandas as pd \n",
    "import numpy as np\n",
    "import json\n",
    "SALES = pd.read_csv(\"C:/Users/david/Mineria Datos/Mineria/Avance PIA/BASE USAR.csv\", index_col=0)\n",
    "Data=pd.DataFrame(SALES)\n",
    "\n"
   ]
  },
  {
   "cell_type": "markdown",
   "metadata": {},
   "source": [
    "## Descripcion Inicial"
   ]
  },
  {
   "cell_type": "code",
   "execution_count": 12,
   "metadata": {},
   "outputs": [],
   "source": [
    "Data.shape\n",
    "Data.dtypes\n",
    "Data.isnull().any()\n",
    "Data.isnull().sum()"
   ]
  },
  {
   "cell_type": "markdown",
   "metadata": {},
   "source": [
    "<b>Numero de Filas</b> = 16719   <b>Numero de Columnas</b>  = 15\n",
    "   \n",
    "   <b>Tipo de dato de cada columna</b>\n",
    "   - Platform         =   object\n",
    "   - Year_of_Release  =   float64\n",
    "   - Genre            =    object\n",
    "   - Publisher        =    object\n",
    "   - NA_Sales         =   float64\n",
    "   - EU_Sales         =   float64\n",
    "   - JP_Sales         =   float64\n",
    "   - Other_Sales      =   float64\n",
    "   - Global_Sales     =   float64\n",
    "   - Critic_Score     =   float64\n",
    "   - Critic_Count     =   float64\n",
    "   - User_Score       =    object\n",
    "   - User_Count       =   float64\n",
    "   - Developer        =    object\n",
    "   - Rating           =    object\n",
    "   \n",
    "<b>Numero de nulos en cada columna</b>\n",
    "   - Platform         =      0\n",
    "   - Year_of_Release  =    269\n",
    "   - Genre            =      2\n",
    "   - Publisher        =     54\n",
    "   - NA_Sales         =      0\n",
    "   - EU_Sales         =      0\n",
    "   - JP_Sales         =      0\n",
    "   - Other_Sales      =      0\n",
    "   - Global_Sales     =      0\n",
    "   - Critic_Score     =   8582\n",
    "   - Critic_Count     =   8582\n",
    "   - User_Score       =   6704\n",
    "   - User_Count       =   9129\n",
    "   - Developer        =   6623\n",
    "   - Rating           =   6769"
   ]
  },
  {
   "cell_type": "markdown",
   "metadata": {},
   "source": [
    "## Limpieza "
   ]
  },
  {
   "cell_type": "code",
   "execution_count": 46,
   "metadata": {},
   "outputs": [
    {
     "name": "stderr",
     "output_type": "stream",
     "text": [
      "C:\\Users\\david\\Anaconda3\\lib\\site-packages\\ipykernel_launcher.py:7: SettingWithCopyWarning: \n",
      "A value is trying to be set on a copy of a slice from a DataFrame.\n",
      "Try using .loc[row_indexer,col_indexer] = value instead\n",
      "\n",
      "See the caveats in the documentation: http://pandas.pydata.org/pandas-docs/stable/user_guide/indexing.html#returning-a-view-versus-a-copy\n",
      "  import sys\n"
     ]
    },
    {
     "data": {
      "text/plain": [
       "Plataforma           0\n",
       "Lanzamiento          0\n",
       "Genero               0\n",
       "V_NA                 0\n",
       "V_EU                 0\n",
       "V_JP                 0\n",
       "V_Otros              0\n",
       "V_Global             0\n",
       "Score                0\n",
       "Score_Usuarios    1052\n",
       "ESRB                 0\n",
       "dtype: int64"
      ]
     },
     "execution_count": 46,
     "metadata": {},
     "output_type": "execute_result"
    }
   ],
   "source": [
    "Data2=Data.rename(columns = {'Platform':'Plataforma','Year_of_Release':'Lanzamiento','Genre':'Genero','NA_Sales':'V_NA',\n",
    "                             'EU_Sales':'V_EU','JP_Sales':'V_JP','Other_Sales':'V_Otros','Global_Sales':'V_Global',\n",
    "                             'Critic_Score':'Score','User_Score':'Score_Usuarios','Rating':'ESRB'})\n",
    "Data3=Data2\n",
    "Data3=Data3.drop(['Publisher','Critic_Count', 'User_Count', 'Developer'],axis=1)\n",
    "Data4 = Data3.dropna(axis=0) #Eliminamos los filas que contienen Nulos\n",
    "Data4[\"Score_Usuarios\"] = Data4[\"Score_Usuarios\"].replace(\"tbd\", np.nan).astype(float)\n",
    "Data4.isnull().sum()\n"
   ]
  },
  {
   "cell_type": "markdown",
   "metadata": {},
   "source": [
    "<b>Después de realizar toda la limpieza nos da un resultado de </b>  7878   <b> Registros y </b>   11 <b> Columnas listos para realizar nuestros análisis </b>"
   ]
  },
  {
   "cell_type": "markdown",
   "metadata": {},
   "source": [
    "## Descripcion estadistica"
   ]
  },
  {
   "cell_type": "code",
   "execution_count": 48,
   "metadata": {},
   "outputs": [
    {
     "data": {
      "text/plain": [
       "count    7878.000000\n",
       "mean       68.998604\n",
       "std        13.923470\n",
       "min        13.000000\n",
       "25%        60.000000\n",
       "50%        71.000000\n",
       "75%        79.000000\n",
       "max        98.000000\n",
       "Name: Score, dtype: float64"
      ]
     },
     "execution_count": 48,
     "metadata": {},
     "output_type": "execute_result"
    }
   ],
   "source": [
    "Data4['Score'].describe()\n",
    "#Data4['Score_Usuarios'].describe()\n",
    "#Data4['Genero'].describe()\n",
    "#Data4['Plataforma'].describe()\n",
    "#Data4['V_Global'].describe()\n",
    "#Data4['Score_Usuarios'].unique\n"
   ]
  }
 ],
 "metadata": {
  "kernelspec": {
   "display_name": "Python 3",
   "language": "python",
   "name": "python3"
  },
  "language_info": {
   "codemirror_mode": {
    "name": "ipython",
    "version": 3
   },
   "file_extension": ".py",
   "mimetype": "text/x-python",
   "name": "python",
   "nbconvert_exporter": "python",
   "pygments_lexer": "ipython3",
   "version": "3.7.4"
  }
 },
 "nbformat": 4,
 "nbformat_minor": 2
}

{
 "cells": [
  {
   "cell_type": "code",
   "execution_count": 50,
   "metadata": {},
   "outputs": [
    {
     "name": "stdout",
     "output_type": "stream",
     "text": [
      "['A', 'B', 'C', 'D', 'E']\n",
      "Numero de transacciones:  6\n",
      "Valor minimo de apariciones para ser aceptado:  3.0\n"
     ]
    }
   ],
   "source": [
    "#Declaramos el conjunto de transacciones\n",
    "TR0=('A','C','D')\n",
    "TR1=('B','C','E')\n",
    "TR2=('A','B','C','E')\n",
    "TR3=('B','E')\n",
    "TR4=('A','C','D')\n",
    "TR5=('A','B','C','E')\n",
    "Transacciones=(TR0,TR1,TR2,TR3,TR4,TR5)\n",
    "Conjunto = sorted(list(set(TR0) | set(TR1) | set(TR2) | set(TR3) | set(TR4) | set(TR5)))\n",
    "\n",
    "#Def la funcion combinaciones\n",
    "from math import factorial\n",
    "def numero_combinaciones(m, n):\n",
    "    return factorial(m) // (factorial(n) * factorial(m - n))\n",
    "\n",
    "Combinacion5en2=numero_combinaciones(len(Conjunto),2)\n",
    "Combinacion5en3=numero_combinaciones(len(Conjunto),3)\n",
    "\n",
    "Umbral=0.5\n",
    "print(Conjunto)\n",
    "print(\"Numero de transacciones: \",len(Transacciones))\n",
    "Minimo=len(Transacciones)*Umbral\n",
    "print(\"Valor minimo de apariciones para ser aceptado: \",Minimo)"
   ]
  },
  {
   "cell_type": "code",
   "execution_count": 40,
   "metadata": {},
   "outputs": [
    {
     "name": "stdout",
     "output_type": "stream",
     "text": [
      "[4, 4, 5, 2, 4]\n",
      "19\n"
     ]
    }
   ],
   "source": [
    "#Imprime los soportes de cada letra\n",
    "Nsoportes=[0 for i in range(len(Conjunto))]\n",
    "Cont=0\n",
    "for i in Conjunto:\n",
    "    \n",
    "    for j in range(len(Transacciones)):\n",
    "        Nsoportes[Cont]=Nsoportes[Cont]+Transacciones[j].count(i)\n",
    "    Cont+=1\n",
    "print(Nsoportes)\n",
    "\n",
    "print(sum(Nsoportes))\n",
    "#Nsoportes.pop(3) Borrar soporte segun la posicion en la lista\n",
    "\n",
    "\n"
   ]
  },
  {
   "cell_type": "code",
   "execution_count": 86,
   "metadata": {
    "scrolled": true
   },
   "outputs": [
    {
     "name": "stdout",
     "output_type": "stream",
     "text": [
      "[2, 3, 2, 0, 0, 0, 0, 0, 0, 0]\n"
     ]
    }
   ],
   "source": [
    "#Imprimir sOPORTE DEL SEGUNDO Nivel Aqui Fallo\n",
    "Nsoportes2=[0 for i in range(Combinacion5en2)]\n",
    "cont=0\n",
    "for j in range(Combinacion5en2):\n",
    "    for i in range(len(Transacciones)):\n",
    "            if(Conjunto[cont] in Transacciones[i]):\n",
    "                if(Conjunto[cont+1] in Transacciones[i]):\n",
    "                    Nsoportes2[j]=Nsoportes2[j]+1\n",
    "    if (Conjunto[cont]!=\"D\"):\n",
    "        cont=cont+1\n",
    "                    \n",
    "print( Nsoportes2)"
   ]
  },
  {
   "cell_type": "code",
   "execution_count": null,
   "metadata": {},
   "outputs": [],
   "source": []
  }
 ],
 "metadata": {
  "kernelspec": {
   "display_name": "Python 3",
   "language": "python",
   "name": "python3"
  },
  "language_info": {
   "codemirror_mode": {
    "name": "ipython",
    "version": 3
   },
   "file_extension": ".py",
   "mimetype": "text/x-python",
   "name": "python",
   "nbconvert_exporter": "python",
   "pygments_lexer": "ipython3",
   "version": "3.7.4"
  }
 },
 "nbformat": 4,
 "nbformat_minor": 4
}

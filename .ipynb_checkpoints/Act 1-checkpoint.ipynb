{
 "cells": [
  {
   "cell_type": "code",
   "execution_count": 14,
   "metadata": {},
   "outputs": [
    {
     "name": "stdout",
     "output_type": "stream",
     "text": [
      "['A', 'B', 'C', 'D', 'E']\n"
     ]
    }
   ],
   "source": [
    "#Declaramos el conjunto de transacciones\n",
    "TR0=('A','C','D')\n",
    "TR1=('B','C','E')\n",
    "TR2=('A','B','C','E')\n",
    "TR3=('B','E')\n",
    "TR4=('A','C','D')\n",
    "TR5=('A','B','C','E')\n",
    "Transacciones=(TR0,TR1,TR2,TR3,TR4,TR5)\n",
    "Conjunto = sorted(list(set(TR0) | set(TR1) | set(TR2) | set(TR3) | set(TR4) | set(TR5)))\n",
    "print(Conjunto)\n",
    "\n"
   ]
  },
  {
   "cell_type": "code",
   "execution_count": 47,
   "metadata": {},
   "outputs": [
    {
     "name": "stdout",
     "output_type": "stream",
     "text": [
      "[4, 4, 5, 2, 4]\n"
     ]
    }
   ],
   "source": [
    "#Imprime los soportes de cada letra\n",
    "Nsoportes=[0,0,0,0,0]\n",
    "Cont=0\n",
    "for i in Conjunto:\n",
    "    \n",
    "    for j in range(len(Transacciones)):\n",
    "        Nsoportes[Cont]=Nsoportes[Cont]+Transacciones[j].count(i)\n",
    "    Cont+=1\n",
    "print(Nsoportes)\n"
   ]
  },
  {
   "cell_type": "code",
   "execution_count": 57,
   "metadata": {},
   "outputs": [
    {
     "data": {
      "text/plain": [
       "False"
      ]
     },
     "execution_count": 57,
     "metadata": {},
     "output_type": "execute_result"
    }
   ],
   "source": [
    "Lnea=('A','B')\n",
    "Lnea in TR3"
   ]
  },
  {
   "cell_type": "code",
   "execution_count": null,
   "metadata": {},
   "outputs": [],
   "source": []
  }
 ],
 "metadata": {
  "kernelspec": {
   "display_name": "Python 3",
   "language": "python",
   "name": "python3"
  },
  "language_info": {
   "codemirror_mode": {
    "name": "ipython",
    "version": 3
   },
   "file_extension": ".py",
   "mimetype": "text/x-python",
   "name": "python",
   "nbconvert_exporter": "python",
   "pygments_lexer": "ipython3",
   "version": "3.7.4"
  }
 },
 "nbformat": 4,
 "nbformat_minor": 4
}

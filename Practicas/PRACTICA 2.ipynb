{
 "cells": [
  {
   "cell_type": "markdown",
   "metadata": {},
   "source": [
    "# Winemag-data - Practica 2"
   ]
  },
  {
   "cell_type": "markdown",
   "metadata": {},
   "source": [
    "## Descripcion Inicial"
   ]
  },
  {
   "cell_type": "code",
   "execution_count": 76,
   "metadata": {},
   "outputs": [
    {
     "data": {
      "text/plain": [
       "country            5\n",
       "description        0\n",
       "designation    45735\n",
       "points             0\n",
       "price          13695\n",
       "province           5\n",
       "region_1       25060\n",
       "region_2       89977\n",
       "variety            0\n",
       "winery             0\n",
       "dtype: int64"
      ]
     },
     "execution_count": 76,
     "metadata": {},
     "output_type": "execute_result"
    }
   ],
   "source": [
    "import seaborn as sns\n",
    "import pandas as pd\n",
    "import matplotlib as plt\n",
    "import matplotlib.pyplot as plt\n",
    "\n",
    "%matplotlib inline\n",
    "\n",
    "reviews = pd.read_csv(\"D:/ACTUARIA/SEMESTRE 7/Mineria de datos/winemag-data_first150k.csv\", index_col=0)\n",
    "Data=pd.DataFrame(reviews)\n",
    "Data.shape\n",
    "Data.dtypes\n",
    "Data.isnull().any()\n",
    "Data.isnull().sum()\n"
   ]
  },
  {
   "cell_type": "markdown",
   "metadata": {},
   "source": [
    "   <b>Numero de Filas</b> = 150930    <b>Numero de Columnas</b>  = 10\n",
    "   \n",
    "   <b>Tipo de dato de cada columna</b>\n",
    "   - country       =  object\n",
    "   - description   =  object\n",
    "   - designation   =  object\n",
    "   - points        =   int64\n",
    "   - price         = float64\n",
    "   - province      =  object\n",
    "   - region_1      =  object\n",
    "   - region_2      =  object\n",
    "   - variety       =  object\n",
    "   - winery        =  object\n",
    "   \n",
    "<b>Numero de nulos en cada columna</b>\n",
    "   - country       =     5\n",
    "   - description   =     0\n",
    "   - designation   = 45735\n",
    "   - points        =     0\n",
    "   - price         = 13695\n",
    "   - province      =     5\n",
    "   - region_1      = 25060\n",
    "   - region_2      = 89977\n",
    "   - variety       =     0\n",
    "   - winery        =     0\n",
    "\n",
    "   \n",
    "  "
   ]
  },
  {
   "cell_type": "markdown",
   "metadata": {},
   "source": [
    "## Limpieza "
   ]
  },
  {
   "cell_type": "code",
   "execution_count": 78,
   "metadata": {},
   "outputs": [
    {
     "data": {
      "text/html": [
       "<div>\n",
       "<style scoped>\n",
       "    .dataframe tbody tr th:only-of-type {\n",
       "        vertical-align: middle;\n",
       "    }\n",
       "\n",
       "    .dataframe tbody tr th {\n",
       "        vertical-align: top;\n",
       "    }\n",
       "\n",
       "    .dataframe thead th {\n",
       "        text-align: right;\n",
       "    }\n",
       "</style>\n",
       "<table border=\"1\" class=\"dataframe\">\n",
       "  <thead>\n",
       "    <tr style=\"text-align: right;\">\n",
       "      <th></th>\n",
       "      <th>Pais</th>\n",
       "      <th>Puntaje</th>\n",
       "      <th>Precio</th>\n",
       "      <th>Ciudad</th>\n",
       "      <th>Tipo_Vino</th>\n",
       "    </tr>\n",
       "  </thead>\n",
       "  <tbody>\n",
       "    <tr>\n",
       "      <td>0</td>\n",
       "      <td>US</td>\n",
       "      <td>96</td>\n",
       "      <td>235.0</td>\n",
       "      <td>California</td>\n",
       "      <td>Cabernet Sauvignon</td>\n",
       "    </tr>\n",
       "    <tr>\n",
       "      <td>1</td>\n",
       "      <td>Spain</td>\n",
       "      <td>96</td>\n",
       "      <td>110.0</td>\n",
       "      <td>Northern Spain</td>\n",
       "      <td>Tinta de Toro</td>\n",
       "    </tr>\n",
       "    <tr>\n",
       "      <td>2</td>\n",
       "      <td>US</td>\n",
       "      <td>96</td>\n",
       "      <td>90.0</td>\n",
       "      <td>California</td>\n",
       "      <td>Sauvignon Blanc</td>\n",
       "    </tr>\n",
       "    <tr>\n",
       "      <td>3</td>\n",
       "      <td>US</td>\n",
       "      <td>96</td>\n",
       "      <td>65.0</td>\n",
       "      <td>Oregon</td>\n",
       "      <td>Pinot Noir</td>\n",
       "    </tr>\n",
       "    <tr>\n",
       "      <td>4</td>\n",
       "      <td>France</td>\n",
       "      <td>95</td>\n",
       "      <td>66.0</td>\n",
       "      <td>Provence</td>\n",
       "      <td>Provence red blend</td>\n",
       "    </tr>\n",
       "    <tr>\n",
       "      <td>5</td>\n",
       "      <td>Spain</td>\n",
       "      <td>95</td>\n",
       "      <td>73.0</td>\n",
       "      <td>Northern Spain</td>\n",
       "      <td>Tinta de Toro</td>\n",
       "    </tr>\n",
       "    <tr>\n",
       "      <td>6</td>\n",
       "      <td>Spain</td>\n",
       "      <td>95</td>\n",
       "      <td>65.0</td>\n",
       "      <td>Northern Spain</td>\n",
       "      <td>Tinta de Toro</td>\n",
       "    </tr>\n",
       "  </tbody>\n",
       "</table>\n",
       "</div>"
      ],
      "text/plain": [
       "     Pais  Puntaje  Precio          Ciudad           Tipo_Vino\n",
       "0      US       96   235.0      California  Cabernet Sauvignon\n",
       "1   Spain       96   110.0  Northern Spain       Tinta de Toro\n",
       "2      US       96    90.0      California     Sauvignon Blanc\n",
       "3      US       96    65.0          Oregon          Pinot Noir\n",
       "4  France       95    66.0        Provence  Provence red blend\n",
       "5   Spain       95    73.0  Northern Spain       Tinta de Toro\n",
       "6   Spain       95    65.0  Northern Spain       Tinta de Toro"
      ]
     },
     "execution_count": 78,
     "metadata": {},
     "output_type": "execute_result"
    }
   ],
   "source": [
    "Data2=Data.rename(columns = {'country':'Pais','points':'Puntaje','price':'Precio','province':'Ciudad','variety':'Tipo_Vino'})\n",
    "Data3=Data2\n",
    "Data3=Data3.drop(['description', 'designation','region_1', 'region_2', 'winery'],axis=1)\n",
    "Data4 = Data3.dropna(axis=0) #Eliminamos los 5 filas que no contienen pais\n",
    "Data3.head(7)"
   ]
  },
  {
   "cell_type": "markdown",
   "metadata": {},
   "source": [
    "## Descripcion estadistica"
   ]
  },
  {
   "cell_type": "code",
   "execution_count": 24,
   "metadata": {},
   "outputs": [
    {
     "data": {
      "text/plain": [
       "count    137230.000000\n",
       "mean         33.132019\n",
       "std          36.323072\n",
       "min           4.000000\n",
       "25%          16.000000\n",
       "50%          24.000000\n",
       "75%          40.000000\n",
       "max        2300.000000\n",
       "Name: Precio, dtype: float64"
      ]
     },
     "execution_count": 24,
     "metadata": {},
     "output_type": "execute_result"
    }
   ],
   "source": [
    "Data4['Puntaje'].mean() \n",
    "Data4['Precio'].mean() \n",
    "Data4['Puntaje'].describe()\n",
    "Data4['Precio'].describe()"
   ]
  },
  {
   "cell_type": "markdown",
   "metadata": {},
   "source": [
    "\n",
    "   <b>Resumen estadistico sobre el Puntaje general</b>\n",
    "- Media del puntaje                    =               87.788035 \n",
    "- Desviacion estandar     =      3.221572 No existe una gran variacion entre los puntajes\n",
    "- Puntaje minimo       =     80.000000\n",
    "- Cuatile del 25%     =     86.000000\n",
    "- Cuatile del 50%      =     88.000000\n",
    "- Cuatile del 75%      =     90.000000\n",
    "- Puntaje maximo       =    100.000000\n",
    "  \n",
    "<b>Resumen estadistico sobre el Precio general</b>\n",
    "- Media del precio                 =     33.132019\n",
    "- Desviacion estandar   =     36.323072 Existe una variacion de precios\n",
    "- precio minimo        =      4.000000\n",
    "- Cuatile del 25%       =     16.000000\n",
    "- Cuatile del 50%       =     24.000000\n",
    "- Cuatile del 75%       =     40.000000\n",
    "- Precio maximo        =   2300.000000"
   ]
  },
  {
   "cell_type": "markdown",
   "metadata": {},
   "source": [
    "## Graficar Matplotlib"
   ]
  },
  {
   "cell_type": "code",
   "execution_count": 73,
   "metadata": {},
   "outputs": [
    {
     "data": {
      "text/plain": [
       "<matplotlib.axes._subplots.AxesSubplot at 0x18593f32a48>"
      ]
     },
     "execution_count": 73,
     "metadata": {},
     "output_type": "execute_result"
    },
    {
     "data": {
      "image/png": "[encoded data removed]",
      "text/plain": [
       "<Figure size 432x288 with 1 Axes>"
      ]
     },
     "metadata": {
      "needs_background": "light"
     },
     "output_type": "display_data"
    },
    {
     "data": {
      "image/png": "[encoded data removed]",
      "text/plain": [
       "<Figure size 432x288 with 2 Axes>"
      ]
     },
     "metadata": {
      "needs_background": "light"
     },
     "output_type": "display_data"
    }
   ],
   "source": [
    "#GRAFICO 1\n",
    "Data4[Data4['Precio'] < 400].plot.scatter(x='Precio', y='Puntaje',title=\"Scatter\")\n",
    "Data4[Data4['Precio'] < 100].plot.hexbin(x='Precio', y='Puntaje', gridsize=15,title=\"Hexplot\")"
   ]
  },
  {
   "cell_type": "markdown",
   "metadata": {},
   "source": [
    "<b>Conclusion</b>\n",
    "\n",
    "<b>Grafica 1 Diagrama de dispersion</b>\n",
    "Muestra como el puntaje se relaciona con los precios y se ve claramente que entre mayor es el costo mas alto tiende a ser el puntaje que se le da al vino.\n",
    "\n",
    "<b>Grafica 2 Hexplot</b>\n",
    "Muestra en forma de hexagonos los cluster donde se agrupan la mayor cantidad de los puntajes y el numero de vinos entre mas sea la moda mayor opacidad se observara.\n"
   ]
  },
  {
   "cell_type": "markdown",
   "metadata": {},
   "source": [
    "## Graficar Seaborn"
   ]
  },
  {
   "cell_type": "code",
   "execution_count": 115,
   "metadata": {},
   "outputs": [
    {
     "data": {
      "text/plain": [
       "<matplotlib.axes._subplots.AxesSubplot at 0x18592a58208>"
      ]
     },
     "execution_count": 115,
     "metadata": {},
     "output_type": "execute_result"
    },
    {
     "data": {
      "image/png": "[encoded data removed]",
      "text/plain": [
       "<Figure size 432x288 with 1 Axes>"
      ]
     },
     "metadata": {
      "needs_background": "light"
     },
     "output_type": "display_data"
    }
   ],
   "source": [
    "df = Data4[Data4.Tipo_Vino.isin(Data4.Tipo_Vino.value_counts().head(4).index)]\n",
    "sns.boxplot(x='Tipo_Vino',y='Puntaje',data=df)\n",
    "#Grafica 2\n",
    "\n",
    "\n",
    "\n"
   ]
  },
  {
   "cell_type": "code",
   "execution_count": 137,
   "metadata": {},
   "outputs": [
    {
     "data": {
      "text/plain": [
       "<matplotlib.axes._subplots.AxesSubplot at 0x185918f25c8>"
      ]
     },
     "execution_count": 137,
     "metadata": {},
     "output_type": "execute_result"
    },
    {
     "data": {
      "image/png": "[encoded data removed]",
      "text/plain": [
       "<Figure size 432x288 with 1 Axes>"
      ]
     },
     "metadata": {
      "needs_background": "light"
     },
     "output_type": "display_data"
    }
   ],
   "source": [
    "sns.countplot(Data4['Pais'].head(70))"
   ]
  },
  {
   "cell_type": "markdown",
   "metadata": {},
   "source": [
    "<b>Conclusion</b>\n",
    "\n",
    "<b>Grafica 1 BoxPLot</b>\n",
    "Muestra como se distribuye el puntaje segun el tipo de vino siendo la linea del medio el indicador de la media y los circulos de encima los valores atipicos de este comportamiento. \n",
    "\n",
    "<b>Grafica 2 Histograma</b>\n",
    "Cantidad de vinos que produce cada pais de una muestra de 70 registros\n"
   ]
  },
  {
   "cell_type": "markdown",
   "metadata": {},
   "source": [
    "## Opcionales\n",
    "<b>Comparacion entre scatter plot y hexplot. Cual es mejor en cual caso y explicar porque.</b>\n",
    "scatter plot y hexplot ambas son son graficos que nos permiten verificar donde se dispersan mas los datos la diferencia es que en el hexplot es atravez de closter hexagonales\n"
   ]
  }
 ],
 "metadata": {
  "kernelspec": {
   "display_name": "Python 3",
   "language": "python",
   "name": "python3"
  },
  "language_info": {
   "codemirror_mode": {
    "name": "ipython",
    "version": 3
   },
   "file_extension": ".py",
   "mimetype": "text/x-python",
   "name": "python",
   "nbconvert_exporter": "python",
   "pygments_lexer": "ipython3",
   "version": "3.7.4"
  }
 },
 "nbformat": 4,
 "nbformat_minor": 2
}
